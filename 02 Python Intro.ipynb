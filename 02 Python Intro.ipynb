{
 "cells": [
  {
   "cell_type": "code",
   "execution_count": 1,
   "id": "71687643",
   "metadata": {},
   "outputs": [
    {
     "name": "stdout",
     "output_type": "stream",
     "text": [
      "32\n"
     ]
    }
   ],
   "source": [
    "myAge = 32\n",
    "print(myAge)"
   ]
  },
  {
   "cell_type": "code",
   "execution_count": 2,
   "id": "3b207f75",
   "metadata": {},
   "outputs": [
    {
     "name": "stdout",
     "output_type": "stream",
     "text": [
      "33\n"
     ]
    }
   ],
   "source": [
    "myAge = 33\n",
    "print(myAge)"
   ]
  },
  {
   "cell_type": "code",
   "execution_count": 3,
   "id": "1d59fadd",
   "metadata": {},
   "outputs": [
    {
     "name": "stdout",
     "output_type": "stream",
     "text": [
      "11.0\n"
     ]
    }
   ],
   "source": [
    "print(myAge/3)"
   ]
  },
  {
   "cell_type": "code",
   "execution_count": 4,
   "id": "36f163b0",
   "metadata": {},
   "outputs": [
    {
     "name": "stdout",
     "output_type": "stream",
     "text": [
      "34\n"
     ]
    }
   ],
   "source": [
    "myAge = myAge + 1\n",
    "print(myAge)"
   ]
  },
  {
   "cell_type": "code",
   "execution_count": 5,
   "id": "d742eaf9",
   "metadata": {},
   "outputs": [
    {
     "name": "stdout",
     "output_type": "stream",
     "text": [
      "4.52125\n"
     ]
    }
   ],
   "source": [
    "#Challenge\n",
    "restaurantBill = 36.17\n",
    "serviceCharge = 0.125\n",
    "\n",
    "print(restaurantBill * serviceCharge)"
   ]
  },
  {
   "cell_type": "code",
   "execution_count": 6,
   "id": "3d3d6ef7",
   "metadata": {},
   "outputs": [
    {
     "data": {
      "text/plain": [
       "int"
      ]
     },
     "execution_count": 6,
     "metadata": {},
     "output_type": "execute_result"
    }
   ],
   "source": [
    "type(33)"
   ]
  },
  {
   "cell_type": "code",
   "execution_count": 7,
   "id": "d4703158",
   "metadata": {},
   "outputs": [
    {
     "data": {
      "text/plain": [
       "float"
      ]
     },
     "execution_count": 7,
     "metadata": {},
     "output_type": "execute_result"
    }
   ],
   "source": [
    "type(33.6)"
   ]
  },
  {
   "cell_type": "code",
   "execution_count": 8,
   "id": "1fb7ce61",
   "metadata": {},
   "outputs": [
    {
     "data": {
      "text/plain": [
       "str"
      ]
     },
     "execution_count": 8,
     "metadata": {},
     "output_type": "execute_result"
    }
   ],
   "source": [
    "type('suh')"
   ]
  },
  {
   "cell_type": "code",
   "execution_count": 9,
   "id": "7da3f0b0",
   "metadata": {},
   "outputs": [
    {
     "data": {
      "text/plain": [
       "int"
      ]
     },
     "execution_count": 9,
     "metadata": {},
     "output_type": "execute_result"
    }
   ],
   "source": [
    "type(myAge)"
   ]
  },
  {
   "cell_type": "code",
   "execution_count": 10,
   "id": "27dcf92b",
   "metadata": {},
   "outputs": [
    {
     "data": {
      "text/plain": [
       "float"
      ]
     },
     "execution_count": 10,
     "metadata": {},
     "output_type": "execute_result"
    }
   ],
   "source": [
    "type(restaurantBill)"
   ]
  },
  {
   "cell_type": "code",
   "execution_count": 11,
   "id": "0d63dadf",
   "metadata": {},
   "outputs": [
    {
     "data": {
      "text/plain": [
       "str"
      ]
     },
     "execution_count": 11,
     "metadata": {},
     "output_type": "execute_result"
    }
   ],
   "source": [
    "myName = 'asuh'\n",
    "type(myName)"
   ]
  },
  {
   "cell_type": "code",
   "execution_count": 12,
   "id": "b631195d",
   "metadata": {},
   "outputs": [
    {
     "data": {
      "text/plain": [
       "list"
      ]
     },
     "execution_count": 12,
     "metadata": {},
     "output_type": "execute_result"
    }
   ],
   "source": [
    "#collection\n",
    "#list can store everything and array can only store same type\n",
    "primeNumbers = [3, 7, 61, 29, 199]\n",
    "type(primeNumbers)"
   ]
  },
  {
   "cell_type": "code",
   "execution_count": 13,
   "id": "1198dad9",
   "metadata": {},
   "outputs": [],
   "source": [
    "coolPeople = ['jayz', 'yourmom', 'me']\n",
    "primesAndPeople = ['yeet', 1, 'yourmomma', 1.2]"
   ]
  },
  {
   "cell_type": "code",
   "execution_count": 14,
   "id": "dd468cb0",
   "metadata": {},
   "outputs": [
    {
     "data": {
      "text/plain": [
       "1.2"
      ]
     },
     "execution_count": 14,
     "metadata": {},
     "output_type": "execute_result"
    }
   ],
   "source": [
    "primesAndPeople[3]"
   ]
  },
  {
   "cell_type": "code",
   "execution_count": 15,
   "id": "dd15965b",
   "metadata": {},
   "outputs": [
    {
     "name": "stdout",
     "output_type": "stream",
     "text": [
      "199\n"
     ]
    }
   ],
   "source": [
    "bestPrimeEver = primeNumbers[4]\n",
    "print(bestPrimeEver)"
   ]
  },
  {
   "cell_type": "code",
   "execution_count": 16,
   "id": "b977ff05",
   "metadata": {},
   "outputs": [],
   "source": [
    "import pandas as pd\n",
    "\n",
    "data = pd.read_csv('lsd_math_score_data.csv')"
   ]
  },
  {
   "cell_type": "code",
   "execution_count": 17,
   "id": "4070bd00",
   "metadata": {},
   "outputs": [
    {
     "name": "stdout",
     "output_type": "stream",
     "text": [
      "   Time_Delay_in_Minutes  LSD_ppm  Avg_Math_Test_Score\n",
      "0                      5     1.17                78.93\n",
      "1                     15     2.97                58.20\n",
      "2                     30     3.26                67.47\n",
      "3                     60     4.69                37.47\n",
      "4                    120     5.83                45.65\n",
      "5                    240     6.00                32.92\n",
      "6                    480     6.41                29.97\n"
     ]
    }
   ],
   "source": [
    "print(data)"
   ]
  },
  {
   "cell_type": "code",
   "execution_count": 18,
   "id": "6401e6b8",
   "metadata": {},
   "outputs": [
    {
     "data": {
      "text/plain": [
       "pandas.core.frame.DataFrame"
      ]
     },
     "execution_count": 18,
     "metadata": {},
     "output_type": "execute_result"
    }
   ],
   "source": [
    "type(data)"
   ]
  },
  {
   "cell_type": "code",
   "execution_count": 19,
   "id": "e0affa76",
   "metadata": {},
   "outputs": [
    {
     "name": "stdout",
     "output_type": "stream",
     "text": [
      "0    78.93\n",
      "1    58.20\n",
      "2    67.47\n",
      "3    37.47\n",
      "4    45.65\n",
      "5    32.92\n",
      "6    29.97\n",
      "Name: Avg_Math_Test_Score, dtype: float64\n"
     ]
    }
   ],
   "source": [
    "onlyMathScores = data['Avg_Math_Test_Score']\n",
    "print(onlyMathScores)"
   ]
  },
  {
   "cell_type": "code",
   "execution_count": 20,
   "id": "8979618e",
   "metadata": {},
   "outputs": [],
   "source": [
    "#adding new column with name test subject\n",
    "data['Test_Subject'] = 'asuhmydude'\n"
   ]
  },
  {
   "cell_type": "code",
   "execution_count": 21,
   "id": "75b03ac9",
   "metadata": {},
   "outputs": [
    {
     "name": "stdout",
     "output_type": "stream",
     "text": [
      "   Time_Delay_in_Minutes  LSD_ppm  Avg_Math_Test_Score Test_Subject\n",
      "0                      5     1.17                78.93   asuhmydude\n",
      "1                     15     2.97                58.20   asuhmydude\n",
      "2                     30     3.26                67.47   asuhmydude\n",
      "3                     60     4.69                37.47   asuhmydude\n",
      "4                    120     5.83                45.65   asuhmydude\n",
      "5                    240     6.00                32.92   asuhmydude\n",
      "6                    480     6.41                29.97   asuhmydude\n"
     ]
    }
   ],
   "source": [
    "print(data)"
   ]
  },
  {
   "cell_type": "code",
   "execution_count": 22,
   "id": "4e1b3340",
   "metadata": {},
   "outputs": [],
   "source": [
    "data['High_Score'] = 100"
   ]
  },
  {
   "cell_type": "code",
   "execution_count": 23,
   "id": "ef40b461",
   "metadata": {},
   "outputs": [
    {
     "name": "stdout",
     "output_type": "stream",
     "text": [
      "   Time_Delay_in_Minutes  LSD_ppm  Avg_Math_Test_Score Test_Subject  \\\n",
      "0                      5     1.17                78.93   asuhmydude   \n",
      "1                     15     2.97                58.20   asuhmydude   \n",
      "2                     30     3.26                67.47   asuhmydude   \n",
      "3                     60     4.69                37.47   asuhmydude   \n",
      "4                    120     5.83                45.65   asuhmydude   \n",
      "5                    240     6.00                32.92   asuhmydude   \n",
      "6                    480     6.41                29.97   asuhmydude   \n",
      "\n",
      "   High_Score  \n",
      "0         100  \n",
      "1         100  \n",
      "2         100  \n",
      "3         100  \n",
      "4         100  \n",
      "5         100  \n",
      "6         100  \n"
     ]
    }
   ],
   "source": [
    "print(data)"
   ]
  },
  {
   "cell_type": "code",
   "execution_count": 24,
   "id": "f7e0613b",
   "metadata": {},
   "outputs": [
    {
     "name": "stdout",
     "output_type": "stream",
     "text": [
      "   Time_Delay_in_Minutes  LSD_ppm  Avg_Math_Test_Score Test_Subject  \\\n",
      "0                      5     1.17                78.93   asuhmydude   \n",
      "1                     15     2.97                58.20   asuhmydude   \n",
      "2                     30     3.26                67.47   asuhmydude   \n",
      "3                     60     4.69                37.47   asuhmydude   \n",
      "4                    120     5.83                45.65   asuhmydude   \n",
      "5                    240     6.00                32.92   asuhmydude   \n",
      "6                    480     6.41                29.97   asuhmydude   \n",
      "\n",
      "   High_Score  \n",
      "0      178.93  \n",
      "1      158.20  \n",
      "2      167.47  \n",
      "3      137.47  \n",
      "4      145.65  \n",
      "5      132.92  \n",
      "6      129.97  \n"
     ]
    }
   ],
   "source": [
    "#overwrite columns\n",
    "data['High_Score'] = data['High_Score'] + data['Avg_Math_Test_Score']\n",
    "print(data)"
   ]
  },
  {
   "cell_type": "code",
   "execution_count": 25,
   "id": "dbb71edd",
   "metadata": {},
   "outputs": [
    {
     "name": "stdout",
     "output_type": "stream",
     "text": [
      "   Time_Delay_in_Minutes  LSD_ppm  Avg_Math_Test_Score Test_Subject  \\\n",
      "0                      5     1.17                78.93   asuhmydude   \n",
      "1                     15     2.97                58.20   asuhmydude   \n",
      "2                     30     3.26                67.47   asuhmydude   \n",
      "3                     60     4.69                37.47   asuhmydude   \n",
      "4                    120     5.83                45.65   asuhmydude   \n",
      "5                    240     6.00                32.92   asuhmydude   \n",
      "6                    480     6.41                29.97   asuhmydude   \n",
      "\n",
      "   High_Score  \n",
      "0  32015.9449  \n",
      "1  25027.2400  \n",
      "2  28046.2009  \n",
      "3  18898.0009  \n",
      "4  21213.9225  \n",
      "5  17667.7264  \n",
      "6  16892.2009  \n"
     ]
    }
   ],
   "source": [
    "#multiply values stored in High_score\n",
    "data['High_Score'] = data['High_Score'] ** 2\n",
    "print(data)"
   ]
  },
  {
   "cell_type": "code",
   "execution_count": 26,
   "id": "21a0edfb",
   "metadata": {},
   "outputs": [
    {
     "data": {
      "text/plain": [
       "pandas.core.series.Series"
      ]
     },
     "execution_count": 26,
     "metadata": {},
     "output_type": "execute_result"
    }
   ],
   "source": [
    "type(onlyMathScores)"
   ]
  },
  {
   "cell_type": "code",
   "execution_count": 27,
   "id": "40b76e3d",
   "metadata": {},
   "outputs": [
    {
     "name": "stdout",
     "output_type": "stream",
     "text": [
      "   LSD_ppm  Avg_Math_Test_Score\n",
      "0     1.17                78.93\n",
      "1     2.97                58.20\n",
      "2     3.26                67.47\n",
      "3     4.69                37.47\n",
      "4     5.83                45.65\n",
      "5     6.00                32.92\n",
      "6     6.41                29.97\n"
     ]
    }
   ],
   "source": [
    "columnList = ['LSD_ppm', 'Avg_Math_Test_Score']\n",
    "cleanData = data[columnList]\n",
    "print(cleanData)"
   ]
  },
  {
   "cell_type": "code",
   "execution_count": 28,
   "id": "fd2f51f8",
   "metadata": {},
   "outputs": [
    {
     "name": "stdout",
     "output_type": "stream",
     "text": [
      "   LSD_ppm  Avg_Math_Test_Score\n",
      "0     1.17                78.93\n",
      "1     2.97                58.20\n",
      "2     3.26                67.47\n",
      "3     4.69                37.47\n",
      "4     5.83                45.65\n",
      "5     6.00                32.92\n",
      "6     6.41                29.97\n"
     ]
    },
    {
     "data": {
      "text/plain": [
       "pandas.core.frame.DataFrame"
      ]
     },
     "execution_count": 28,
     "metadata": {},
     "output_type": "execute_result"
    }
   ],
   "source": [
    "#simpler way than above\n",
    "cleanerData = data[['LSD_ppm', 'Avg_Math_Test_Score']]\n",
    "print(cleanerData)\n",
    "type(cleanerData)"
   ]
  },
  {
   "cell_type": "code",
   "execution_count": 29,
   "id": "7b49e97c",
   "metadata": {},
   "outputs": [
    {
     "data": {
      "text/plain": [
       "pandas.core.frame.DataFrame"
      ]
     },
     "execution_count": 29,
     "metadata": {},
     "output_type": "execute_result"
    }
   ],
   "source": [
    "y = data[['Avg_Math_Test_Score']]\n",
    "type(y)"
   ]
  },
  {
   "cell_type": "code",
   "execution_count": 30,
   "id": "2dcf1eb8",
   "metadata": {},
   "outputs": [
    {
     "name": "stdout",
     "output_type": "stream",
     "text": [
      "   LSD_ppm\n",
      "0     1.17\n",
      "1     2.97\n",
      "2     3.26\n",
      "3     4.69\n",
      "4     5.83\n",
      "5     6.00\n",
      "6     6.41\n"
     ]
    },
    {
     "data": {
      "text/plain": [
       "pandas.core.frame.DataFrame"
      ]
     },
     "execution_count": 30,
     "metadata": {},
     "output_type": "execute_result"
    }
   ],
   "source": [
    "X = data[['LSD_ppm']]\n",
    "print(X)\n",
    "type(X)"
   ]
  },
  {
   "cell_type": "code",
   "execution_count": 31,
   "id": "5c2a7237",
   "metadata": {},
   "outputs": [
    {
     "name": "stdout",
     "output_type": "stream",
     "text": [
      "   Time_Delay_in_Minutes  LSD_ppm  Avg_Math_Test_Score  High_Score\n",
      "0                      5     1.17                78.93  32015.9449\n",
      "1                     15     2.97                58.20  25027.2400\n",
      "2                     30     3.26                67.47  28046.2009\n",
      "3                     60     4.69                37.47  18898.0009\n",
      "4                    120     5.83                45.65  21213.9225\n",
      "5                    240     6.00                32.92  17667.7264\n",
      "6                    480     6.41                29.97  16892.2009\n"
     ]
    }
   ],
   "source": [
    "#delete column from dataframe\n",
    "del data['Test_Subject']\n",
    "print(data)"
   ]
  },
  {
   "cell_type": "code",
   "execution_count": 32,
   "id": "18580f3f",
   "metadata": {},
   "outputs": [
    {
     "name": "stdout",
     "output_type": "stream",
     "text": [
      "   Time_Delay_in_Minutes  LSD_ppm  Avg_Math_Test_Score\n",
      "0                      5     1.17                78.93\n",
      "1                     15     2.97                58.20\n",
      "2                     30     3.26                67.47\n",
      "3                     60     4.69                37.47\n",
      "4                    120     5.83                45.65\n",
      "5                    240     6.00                32.92\n",
      "6                    480     6.41                29.97\n"
     ]
    }
   ],
   "source": [
    "del data['High_Score']\n",
    "print(data)"
   ]
  },
  {
   "cell_type": "code",
   "execution_count": 33,
   "id": "9bcc897a",
   "metadata": {},
   "outputs": [],
   "source": [
    "import matplotlib.pyplot as plt\n",
    "from sklearn.linear_model import LinearRegression"
   ]
  },
  {
   "cell_type": "code",
   "execution_count": 34,
   "id": "77f233bd",
   "metadata": {},
   "outputs": [],
   "source": [
    "def get_milk():\n",
    "    print('Open door')\n",
    "    print('Walk to the store')\n",
    "    print('buy milk')\n",
    "    print('return home')"
   ]
  },
  {
   "cell_type": "code",
   "execution_count": 35,
   "id": "061db734",
   "metadata": {},
   "outputs": [
    {
     "name": "stdout",
     "output_type": "stream",
     "text": [
      "Open door\n",
      "Walk to the store\n",
      "buy milk\n",
      "return home\n"
     ]
    }
   ],
   "source": [
    "get_milk()"
   ]
  },
  {
   "cell_type": "code",
   "execution_count": 36,
   "id": "35041927",
   "metadata": {},
   "outputs": [],
   "source": [
    "def fill_the_fridge(amount):\n",
    "    print('Open door')\n",
    "    print('Walk to the store')\n",
    "    print('buy ' + amount + ' milk')\n",
    "    print('return home')"
   ]
  },
  {
   "cell_type": "code",
   "execution_count": 37,
   "id": "d907b894",
   "metadata": {},
   "outputs": [
    {
     "name": "stdout",
     "output_type": "stream",
     "text": [
      "Open door\n",
      "Walk to the store\n",
      "buy five milk\n",
      "return home\n"
     ]
    }
   ],
   "source": [
    "fill_the_fridge('five')"
   ]
  },
  {
   "cell_type": "code",
   "execution_count": 38,
   "id": "4b727a6e",
   "metadata": {},
   "outputs": [
    {
     "name": "stdout",
     "output_type": "stream",
     "text": [
      "Open door\n",
      "Walk to the store\n",
      "buy one million keks milk\n",
      "return home\n"
     ]
    }
   ],
   "source": [
    "fill_the_fridge('one million keks')"
   ]
  },
  {
   "cell_type": "code",
   "execution_count": 39,
   "id": "f94197d7",
   "metadata": {},
   "outputs": [],
   "source": [
    "def milk_mission(amount, destination):\n",
    "    print('Open door')\n",
    "    print('Walk to the ' + destination)\n",
    "    print('buy ' + amount + ' milk')\n",
    "    print('return home')"
   ]
  },
  {
   "cell_type": "code",
   "execution_count": 40,
   "id": "e2aa54d6",
   "metadata": {},
   "outputs": [
    {
     "name": "stdout",
     "output_type": "stream",
     "text": [
      "Open door\n",
      "Walk to the store\n",
      "buy twenty milk\n",
      "return home\n"
     ]
    }
   ],
   "source": [
    "milk_mission('twenty', 'store')"
   ]
  },
  {
   "cell_type": "code",
   "execution_count": 41,
   "id": "4ee58f4b",
   "metadata": {},
   "outputs": [
    {
     "name": "stdout",
     "output_type": "stream",
     "text": [
      "Open door\n",
      "Walk to the store\n",
      "buy twenty milk\n",
      "return home\n"
     ]
    }
   ],
   "source": [
    "milk_mission(amount='twenty', destination ='store')"
   ]
  },
  {
   "cell_type": "code",
   "execution_count": 42,
   "id": "0f65dc71",
   "metadata": {},
   "outputs": [
    {
     "name": "stdout",
     "output_type": "stream",
     "text": [
      "Open door\n",
      "Walk to the store\n",
      "buy twenty milk\n",
      "return home\n"
     ]
    }
   ],
   "source": [
    "milk_mission('twenty', destination ='store')"
   ]
  },
  {
   "cell_type": "code",
   "execution_count": 43,
   "id": "050e7326",
   "metadata": {},
   "outputs": [
    {
     "data": {
      "text/plain": [
       "107.39591424000002"
      ]
     },
     "execution_count": 43,
     "metadata": {},
     "output_type": "execute_result"
    }
   ],
   "source": [
    "# TODO 1: Add two parameters (length_ft and width_ft)\n",
    "def calc_square_meters_from_feet(length_ft, width_ft):\n",
    "    \n",
    "    \n",
    "    # TODO 2: Modify the code below:\n",
    "    metric_length = length_ft * 0.3048\n",
    "    metric_width = width_ft * 0.3048\n",
    "    metric_area = metric_length * metric_width\n",
    "    \n",
    "    \n",
    "    \n",
    "    \n",
    "\n",
    "    # Leave the line below as it is\n",
    "    return metric_area\n",
    "\n",
    "\n",
    "calc_square_meters_from_feet(34,34)"
   ]
  },
  {
   "cell_type": "code",
   "execution_count": 44,
   "id": "02f6c2ab",
   "metadata": {},
   "outputs": [
    {
     "data": {
      "text/plain": [
       "15.9826"
      ]
     },
     "execution_count": 44,
     "metadata": {},
     "output_type": "execute_result"
    }
   ],
   "source": [
    "def ch_times(input, another_input):\n",
    "    #result = input * another_input\n",
    "    return input * another_input\n",
    "\n",
    "ch_times(3.14, 5.09)"
   ]
  },
  {
   "cell_type": "code",
   "execution_count": 45,
   "id": "eb644295",
   "metadata": {},
   "outputs": [
    {
     "name": "stdout",
     "output_type": "stream",
     "text": [
      "15.9826\n"
     ]
    }
   ],
   "source": [
    "test = ch_times(3.14, 5.09)\n",
    "print(test)"
   ]
  },
  {
   "cell_type": "code",
   "execution_count": 46,
   "id": "0281c29a",
   "metadata": {},
   "outputs": [
    {
     "name": "stdout",
     "output_type": "stream",
     "text": [
      "The Zen of Python, by Tim Peters\n",
      "\n",
      "Beautiful is better than ugly.\n",
      "Explicit is better than implicit.\n",
      "Simple is better than complex.\n",
      "Complex is better than complicated.\n",
      "Flat is better than nested.\n",
      "Sparse is better than dense.\n",
      "Readability counts.\n",
      "Special cases aren't special enough to break the rules.\n",
      "Although practicality beats purity.\n",
      "Errors should never pass silently.\n",
      "Unless explicitly silenced.\n",
      "In the face of ambiguity, refuse the temptation to guess.\n",
      "There should be one-- and preferably only one --obvious way to do it.\n",
      "Although that way may not be obvious at first unless you're Dutch.\n",
      "Now is better than never.\n",
      "Although never is often better than *right* now.\n",
      "If the implementation is hard to explain, it's a bad idea.\n",
      "If the implementation is easy to explain, it may be a good idea.\n",
      "Namespaces are one honking great idea -- let's do more of those!\n"
     ]
    }
   ],
   "source": [
    "import this"
   ]
  },
  {
   "cell_type": "code",
   "execution_count": 47,
   "id": "cd8b4287",
   "metadata": {},
   "outputs": [],
   "source": [
    "def concatinate_lists(first_list, second_list):\n",
    "    result = first_list + second_list\n",
    "    \n",
    "    return result"
   ]
  },
  {
   "cell_type": "code",
   "execution_count": 48,
   "id": "59971100",
   "metadata": {},
   "outputs": [
    {
     "data": {
      "text/plain": [
       "['a', 'b', 'c', 1, 2, 3]"
      ]
     },
     "execution_count": 48,
     "metadata": {},
     "output_type": "execute_result"
    }
   ],
   "source": [
    "a = ['a', 'b', 'c']\n",
    "b = [1,2,3]\n",
    "concatinate_lists(a,b)"
   ]
  },
  {
   "cell_type": "code",
   "execution_count": 49,
   "id": "da56a2a4",
   "metadata": {},
   "outputs": [],
   "source": [
    "import life as idk"
   ]
  },
  {
   "cell_type": "code",
   "execution_count": 50,
   "id": "b8ac980b",
   "metadata": {},
   "outputs": [
    {
     "name": "stdout",
     "output_type": "stream",
     "text": [
      "I've calculated your chance of survival, but i don't think you'll like it\n"
     ]
    }
   ],
   "source": [
    "idk.quote_marvin()"
   ]
  },
  {
   "cell_type": "code",
   "execution_count": 51,
   "id": "8fbbac10",
   "metadata": {},
   "outputs": [
    {
     "name": "stdout",
     "output_type": "stream",
     "text": [
      "7.946068210127573\n"
     ]
    }
   ],
   "source": [
    "result = idk.square_root(63.14)\n",
    "print(result)"
   ]
  },
  {
   "cell_type": "code",
   "execution_count": 52,
   "id": "9f903424",
   "metadata": {},
   "outputs": [],
   "source": [
    "time = data[['Time_Delay_in_Minutes']]\n",
    "LSD = data[['LSD_ppm']]\n",
    "score = data[['Avg_Math_Test_Score']]"
   ]
  },
  {
   "cell_type": "code",
   "execution_count": 53,
   "id": "e0ac14e7",
   "metadata": {},
   "outputs": [
    {
     "data": {
      "image/png": "[encoded data removed]",
      "text/plain": [
       "<Figure size 432x288 with 1 Axes>"
      ]
     },
     "metadata": {
      "needs_background": "light"
     },
     "output_type": "display_data"
    }
   ],
   "source": [
    "%matplotlib inline\n",
    "\n",
    "plt.title('Tissue concentration of LSD over time', fontsize=17)\n",
    "plt.xlabel('Time in Minutes', fontsize=14)\n",
    "plt.ylabel('Tissue LSD ppm', fontsize=14)\n",
    "plt.text(x=0, y=-0.5, s='Wagner et al. (1968)', fontsize=12)\n",
    "plt.xticks(fontsize=14)\n",
    "plt.yticks(fontsize=14)\n",
    "\n",
    "plt.ylim(1,7)\n",
    "plt.xlim(0, 500)\n",
    "\n",
    "plt.style.use('ggplot')\n",
    "\n",
    "plt.plot(time, LSD, color='#e74c3c', linewidth=3)\n",
    "plt.show()"
   ]
  },
  {
   "cell_type": "code",
   "execution_count": 54,
   "id": "cf10548e",
   "metadata": {},
   "outputs": [
    {
     "name": "stdout",
     "output_type": "stream",
     "text": [
      "Theta1 :  -9.009466415296785\n",
      "Intercept :  89.12387376799308\n",
      "R-Squared :  0.8778349707775889\n"
     ]
    }
   ],
   "source": [
    "regr = LinearRegression()\n",
    "regr.fit(LSD, score)\n",
    "print('Theta1 : ', regr.coef_[0][0])\n",
    "print('Intercept : ', regr.intercept_[0])\n",
    "print('R-Squared : ', regr.score(LSD, score))\n",
    "predicted_score = regr.predict(LSD)"
   ]
  },
  {
   "cell_type": "code",
   "execution_count": 55,
   "id": "b90b5a16",
   "metadata": {},
   "outputs": [
    {
     "data": {
      "image/png": "[encoded data removed]",
      "text/plain": [
       "<Figure size 432x288 with 1 Axes>"
      ]
     },
     "metadata": {
      "needs_background": "light"
     },
     "output_type": "display_data"
    }
   ],
   "source": [
    "%matplotlib inline\n",
    "\n",
    "plt.title('Arithmetic vs LSD-25', fontsize=17)\n",
    "plt.xlabel('Tissue LSD ppm', fontsize=14)\n",
    "plt.ylabel('Perfomance Score', fontsize=14)\n",
    "plt.ylim(25, 85)\n",
    "plt.xlim(1,6.5)\n",
    "plt.style.use('fivethirtyeight')\n",
    "\n",
    "plt.scatter(LSD, score, color='blue',alpha=0.7, s=100 )\n",
    "\n",
    "plt.plot(LSD, predicted_score, color='red', linewidth=3)\n",
    "plt.show()"
   ]
  },
  {
   "cell_type": "code",
   "execution_count": 56,
   "id": "883b8294",
   "metadata": {},
   "outputs": [],
   "source": [
    "# excersice with loops solution\n",
    "\n",
    "def sing(num_bottles):\n",
    "    #TODO: Add your code to achieve the desired output and pass the challenge.\n",
    "    lyrics=[]\n",
    "    for i in range(num_bottles, 0, -1):\n",
    "        lyrics.append('{i} bottles of beer on the wall, {i} bottles of beer.'.format(i = i))\n",
    "        lyrics.append('Take one down and pass it around, {i} bottles of beer on the wall.'.format(i = i - 1))\n",
    "        lyrics.append('')\n",
    "        \n",
    "    return lyrics"
   ]
  },
  {
   "cell_type": "code",
   "execution_count": null,
   "id": "ed8099e3",
   "metadata": {},
   "outputs": [],
   "source": []
  }
 ],
 "metadata": {
  "kernelspec": {
   "display_name": "Python 3 (ipykernel)",
   "language": "python",
   "name": "python3"
  },
  "language_info": {
   "codemirror_mode": {
    "name": "ipython",
    "version": 3
   },
   "file_extension": ".py",
   "mimetype": "text/x-python",
   "name": "python",
   "nbconvert_exporter": "python",
   "pygments_lexer": "ipython3",
   "version": "3.9.7"
  }
 },
 "nbformat": 4,
 "nbformat_minor": 5
}
